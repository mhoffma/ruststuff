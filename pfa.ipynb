{
 "cells": [
  {
   "cell_type": "code",
   "execution_count": 1,
   "id": "1a47b550-c17d-4b87-87e2-9e73505a62d7",
   "metadata": {},
   "outputs": [],
   "source": [
    "import numpy as np\n",
    "from numpy import array,matmul,arange,pi,exp\n",
    "import matplotlib.pyplot as plt\n",
    "from numpy.fft import fft\n",
    "def row(x): return x.reshape(1,-1)\n",
    "def col(x): return x.reshape(-1,1)\n",
    "def plot(x):\n",
    "  x=x.flatten()\n",
    "  n=arange(len(x))\n",
    "  plt.plot(n,x.real,x.imag)\n",
    "def snr(a,b):\n",
    "    n=sum(abs(a))\n",
    "    d=sum(abs(a-b))\n",
    "    return abs(20*np.log10(np.where(d == 0, 0, n/d)))"
   ]
  },
  {
   "cell_type": "code",
   "execution_count": 2,
   "id": "4a26127d-378c-457d-9c35-7108bcfc5e19",
   "metadata": {},
   "outputs": [],
   "source": [
    "def computeFactors(n,factors):\n",
    "    i = 2\n",
    "    #factors = []\n",
    "    while i * i <= n:\n",
    "        if n % i:\n",
    "            i += 1\n",
    "        else:\n",
    "            n = n//i\n",
    "            factors.append(i)\n",
    "    if n > 1:\n",
    "        factors.append(n)\n",
    "    return factors\n",
    "\n",
    "def r235(n):\n",
    "    factors=[]\n",
    "    a=array(computeFactors(n,factors))\n",
    "    return [sum(a==x) for x in (2,3,5)]\n",
    "\n",
    "def r235fft(X):\n",
    "    fft=np.fft.fft\n",
    "    N=len(X)\n",
    "    (R2,R3,R5)=r235(N)\n",
    "    n=2**R2\n",
    "    m=(3**R3)*(5**R5)\n",
    "    V=X.reshape(n,m)\n",
    "\n",
    "    A1=fft(V,axis=0)\n",
    "    A2=A1*exp(-2j*pi*matmul(col(arange(n)),row(arange(m)))/N)\n",
    "    A3=A2.reshape(n,3**R3,5**R5)\n",
    "    A4=fft(A3,axis=1)\n",
    "    for i in range(n):\n",
    "        A4[i]=A4[i]*exp(-2j*pi*matmul(col(arange(3**R3)),row(arange(5**R5)))/m)\n",
    "    Y=fft(A4,axis=2).T.flatten()\n",
    "    return Y"
   ]
  },
  {
   "cell_type": "code",
   "execution_count": 3,
   "id": "88d0fdcb-c0e3-45ea-b7d1-2404f6c71b0d",
   "metadata": {},
   "outputs": [
    {
     "data": {
      "text/plain": [
       "309.63741874896687"
      ]
     },
     "execution_count": 3,
     "metadata": {},
     "output_type": "execute_result"
    }
   ],
   "source": [
    "n=1200\n",
    "x=np.random.random([n])+np.random.random([n])*1j -.5-.5j\n",
    "snr(fft(x),r235fft(x))"
   ]
  },
  {
   "cell_type": "code",
   "execution_count": 4,
   "id": "63aea3e5-ac0b-4b2c-bc73-1060b1c55591",
   "metadata": {},
   "outputs": [],
   "source": [
    "def r235fft(X):\n",
    "    fft=np.fft.fft\n",
    "    N=len(X)\n",
    "    (R2,R3,R5)=r235(N)\n",
    "    print(f'r2={R2}, r3={R3}, r5={R5}')\n",
    "    n=2**R2\n",
    "    m=(3**R3)*(5**R5)\n",
    "    V=X.reshape(n,m)\n",
    "\n",
    "    A1=fft(V,axis=0)\n",
    "    A2=A1*exp(-2j*pi*matmul(col(arange(n)),row(arange(m)))/N)\n",
    "    A3=A2.reshape(n,3**R3,5**R5)\n",
    "    A4=fft(A3,axis=1)\n",
    "    for i in range(n):\n",
    "        A4[i]=A4[i]*exp(-2j*pi*matmul(col(arange(3**R3)),row(arange(5**R5)))/m)\n",
    "    Y=fft(A4,axis=2).T.flatten()\n",
    "    print(f'A1={A1.shape}, A2={A2.shape}, A3={A3.shape}, A4={A4.shape}')\n",
    "    return Y"
   ]
  },
  {
   "cell_type": "code",
   "execution_count": 5,
   "id": "b5a87f1b-16f9-4afd-b4e2-dfbda11623c0",
   "metadata": {},
   "outputs": [
    {
     "name": "stdout",
     "output_type": "stream",
     "text": [
      "r2=4, r3=1, r5=2\n",
      "A1=(16, 75), A2=(16, 75), A3=(16, 3, 25), A4=(16, 3, 25)\n"
     ]
    },
    {
     "data": {
      "text/plain": [
       "309.44436132001306"
      ]
     },
     "execution_count": 5,
     "metadata": {},
     "output_type": "execute_result"
    }
   ],
   "source": [
    "n=1200\n",
    "x=np.random.random([n])+np.random.random([n])*1j -.5-.5j\n",
    "snr(fft(x),r235fft(x))"
   ]
  },
  {
   "cell_type": "code",
   "execution_count": 6,
   "id": "89793edd-cd67-42c2-8e36-ccbab1dfc6db",
   "metadata": {},
   "outputs": [
    {
     "data": {
      "text/plain": [
       "array([[   0,    0,    0, ...,    0,    0,    0],\n",
       "       [   0,    1,    2, ...,   72,   73,   74],\n",
       "       [   0,    2,    4, ...,  144,  146,  148],\n",
       "       ...,\n",
       "       [   0,   13,   26, ...,  936,  949,  962],\n",
       "       [   0,   14,   28, ..., 1008, 1022, 1036],\n",
       "       [   0,   15,   30, ..., 1080, 1095, 1110]])"
      ]
     },
     "execution_count": 6,
     "metadata": {},
     "output_type": "execute_result"
    }
   ],
   "source": [
    "matmul(col(arange(16)),row(arange(75)))"
   ]
  },
  {
   "cell_type": "code",
   "execution_count": 12,
   "id": "18e07fc9-2962-4f41-8939-870229aad547",
   "metadata": {},
   "outputs": [
    {
     "data": {
      "text/plain": [
       "array([[0, 0, 0, 0, 0],\n",
       "       [1, 1, 1, 1, 1],\n",
       "       [2, 2, 2, 2, 2],\n",
       "       [3, 3, 3, 3, 3]])"
      ]
     },
     "execution_count": 12,
     "metadata": {},
     "output_type": "execute_result"
    }
   ],
   "source": [
    "x=array([[x]*5 for x in range (4)])\n",
    "x"
   ]
  },
  {
   "cell_type": "code",
   "execution_count": 17,
   "id": "e4618f97-81e7-440e-956b-709cba3681e8",
   "metadata": {},
   "outputs": [
    {
     "data": {
      "text/plain": [
       "array([[ 6.+0.j,  6.+0.j,  6.+0.j,  6.+0.j,  6.+0.j],\n",
       "       [-2.+2.j, -2.+2.j, -2.+2.j, -2.+2.j, -2.+2.j],\n",
       "       [-2.+0.j, -2.+0.j, -2.+0.j, -2.+0.j, -2.+0.j],\n",
       "       [-2.-2.j, -2.-2.j, -2.-2.j, -2.-2.j, -2.-2.j]])"
      ]
     },
     "execution_count": 17,
     "metadata": {},
     "output_type": "execute_result"
    }
   ],
   "source": [
    "x0=fft(x,axis=0)\n",
    "x0"
   ]
  },
  {
   "cell_type": "code",
   "execution_count": 38,
   "id": "d46f0de4-56cb-4825-8acd-fa6644aa89d3",
   "metadata": {},
   "outputs": [
    {
     "data": {
      "text/plain": [
       "array([[6.+0.0000000e+00j, 6.+0.0000000e+00j, 6.+0.0000000e+00j,\n",
       "        6.+0.0000000e+00j, 6.+0.0000000e+00j],\n",
       "       [2.+2.0000000e+00j, 2.+2.0000000e+00j, 2.+2.0000000e+00j,\n",
       "        2.+2.0000000e+00j, 2.+2.0000000e+00j],\n",
       "       [2.+2.4492936e-16j, 2.+2.4492936e-16j, 2.+2.4492936e-16j,\n",
       "        2.+2.4492936e-16j, 2.+2.4492936e-16j],\n",
       "       [2.-2.0000000e+00j, 2.-2.0000000e+00j, 2.-2.0000000e+00j,\n",
       "        2.-2.0000000e+00j, 2.-2.0000000e+00j]])"
      ]
     },
     "execution_count": 38,
     "metadata": {},
     "output_type": "execute_result"
    }
   ],
   "source": [
    "x1=x0*col(exp(-2j*pi*arange(4)/4))\n",
    "x1"
   ]
  },
  {
   "cell_type": "code",
   "execution_count": 42,
   "id": "89276881-bbd4-4849-a61f-c2d6cb696976",
   "metadata": {},
   "outputs": [
    {
     "data": {
      "text/plain": [
       "array([[ 3.00000000e+01+0.00000000e+00j,  1.00000000e+01+1.00000000e+01j,\n",
       "         1.00000000e+01+1.22464680e-15j,  1.00000000e+01-1.00000000e+01j],\n",
       "       [ 0.00000000e+00+0.00000000e+00j,  0.00000000e+00+0.00000000e+00j,\n",
       "         0.00000000e+00+0.00000000e+00j,  0.00000000e+00+0.00000000e+00j],\n",
       "       [ 0.00000000e+00+0.00000000e+00j,  0.00000000e+00+0.00000000e+00j,\n",
       "         1.44900252e-32+1.99438087e-32j, -3.10152403e-16-4.91233148e-17j],\n",
       "       [ 0.00000000e+00+0.00000000e+00j,  0.00000000e+00+0.00000000e+00j,\n",
       "         1.99438087e-32+1.44900252e-32j, -3.10152403e-16+4.91233148e-17j],\n",
       "       [ 0.00000000e+00+0.00000000e+00j,  0.00000000e+00+0.00000000e+00j,\n",
       "         0.00000000e+00+0.00000000e+00j,  0.00000000e+00+0.00000000e+00j]])"
      ]
     },
     "execution_count": 42,
     "metadata": {},
     "output_type": "execute_result"
    }
   ],
   "source": [
    "x2=fft(x1.T,axis=0)*exp(-2j*pi*arange(5)/20))\n",
    "x2"
   ]
  },
  {
   "cell_type": "code",
   "execution_count": 43,
   "id": "230b40d3-937e-4cf5-a56b-445c11ce86b2",
   "metadata": {},
   "outputs": [
    {
     "data": {
      "image/png": "[encoded data removed]",
      "text/plain": [
       "<Figure size 432x288 with 1 Axes>"
      ]
     },
     "metadata": {
      "needs_background": "light"
     },
     "output_type": "display_data"
    }
   ],
   "source": [
    "plot(x2.flatten())"
   ]
  },
  {
   "cell_type": "code",
   "execution_count": 41,
   "id": "24f67f9d-24a6-4c9b-bcf0-bd0bc1886f94",
   "metadata": {},
   "outputs": [
    {
     "data": {
      "image/png": "[encoded data removed]",
      "text/plain": [
       "<Figure size 432x288 with 1 Axes>"
      ]
     },
     "metadata": {
      "needs_background": "light"
     },
     "output_type": "display_data"
    }
   ],
   "source": [
    "plot(fft(x))"
   ]
  },
  {
   "cell_type": "code",
   "execution_count": 68,
   "id": "b9f8df74-9b1a-4e6a-bca0-7670348a1708",
   "metadata": {},
   "outputs": [],
   "source": [
    "X=np.zeros(1200,dtype=complex)\n",
    "X=array([[l]*40 for l in range(30)],dtype=complex)\n",
    "X=np.random.random([1200])+np.random.random([1200])*1j -.5-.5j\n",
    "x=X.reshape((30,40))\n",
    "\n",
    "a=fft(x,axis=0)\n",
    "a=a*exp(-2j*pi*col(arange(30)).dot(row(arange(40)))/1200)\n",
    "b=a.T\n",
    "c=fft(b,axis=0)"
   ]
  },
  {
   "cell_type": "code",
   "execution_count": 70,
   "id": "7a7f8b9a-cac0-42e8-8b23-5169a0ad22a5",
   "metadata": {},
   "outputs": [
    {
     "data": {
      "text/plain": [
       "309.03694804763296"
      ]
     },
     "execution_count": 70,
     "metadata": {},
     "output_type": "execute_result"
    }
   ],
   "source": [
    "snr(fft(X.flatten()),c.flatten())"
   ]
  },
  {
   "cell_type": "code",
   "execution_count": 75,
   "id": "333d85a4-ade7-45eb-8c1b-867dd792c6c0",
   "metadata": {},
   "outputs": [],
   "source": [
    "X=array([[l]*40 for l in range(30)],dtype=complex)\n",
    "x=X.reshape(30,40)\n",
    "a=fft(x,axis=0)\n",
    "a=a*exp(-2j*pi*col(arange(30)).dot(row(arange(40)))/1200)\n",
    "b=a.T\n",
    "c=fft(b,axis=0)"
   ]
  },
  {
   "cell_type": "code",
   "execution_count": 78,
   "id": "73349145-0fda-4362-ac9c-e27dad88b90a",
   "metadata": {},
   "outputs": [],
   "source": [
    "q=x[:,0].reshape(2,3,5)"
   ]
  },
  {
   "cell_type": "code",
   "execution_count": 79,
   "id": "c1f3c829-b7e7-41ba-aaf3-b071e13d11ac",
   "metadata": {},
   "outputs": [
    {
     "data": {
      "text/plain": [
       "array([[[ 0.+0.j,  1.+0.j,  2.+0.j,  3.+0.j,  4.+0.j],\n",
       "        [ 5.+0.j,  6.+0.j,  7.+0.j,  8.+0.j,  9.+0.j],\n",
       "        [10.+0.j, 11.+0.j, 12.+0.j, 13.+0.j, 14.+0.j]],\n",
       "\n",
       "       [[15.+0.j, 16.+0.j, 17.+0.j, 18.+0.j, 19.+0.j],\n",
       "        [20.+0.j, 21.+0.j, 22.+0.j, 23.+0.j, 24.+0.j],\n",
       "        [25.+0.j, 26.+0.j, 27.+0.j, 28.+0.j, 29.+0.j]]])"
      ]
     },
     "execution_count": 79,
     "metadata": {},
     "output_type": "execute_result"
    }
   ],
   "source": [
    "q"
   ]
  },
  {
   "cell_type": "code",
   "execution_count": 84,
   "id": "8a975022-7983-4596-8bbb-035c69a45d97",
   "metadata": {},
   "outputs": [
    {
     "data": {
      "text/plain": [
       "array([[[ 15.+0.j,  17.+0.j,  19.+0.j,  21.+0.j,  23.+0.j],\n",
       "        [ 25.+0.j,  27.+0.j,  29.+0.j,  31.+0.j,  33.+0.j],\n",
       "        [ 35.+0.j,  37.+0.j,  39.+0.j,  41.+0.j,  43.+0.j]],\n",
       "\n",
       "       [[-15.+0.j, -15.+0.j, -15.+0.j, -15.+0.j, -15.+0.j],\n",
       "        [-15.+0.j, -15.+0.j, -15.+0.j, -15.+0.j, -15.+0.j],\n",
       "        [-15.+0.j, -15.+0.j, -15.+0.j, -15.+0.j, -15.+0.j]]])"
      ]
     },
     "execution_count": 84,
     "metadata": {},
     "output_type": "execute_result"
    }
   ],
   "source": [
    "q0=fft(q,axis=0);q0"
   ]
  },
  {
   "cell_type": "code",
   "execution_count": 88,
   "id": "a3401c2c-d745-4729-b211-bc554782c65d",
   "metadata": {},
   "outputs": [],
   "source": [
    "Wn_30=exp(-2j*pi*col(arange(2*3)).dot(row(arange(5)))/30).reshape(2,3,5)"
   ]
  },
  {
   "cell_type": "code",
   "execution_count": 93,
   "id": "4ad19b9d-6c01-40b0-bd9c-fea24154b540",
   "metadata": {},
   "outputs": [
    {
     "data": {
      "text/plain": [
       "array([ 15. +0.j,  17. +0.j,  19. +0.j,  21. +0.j,  23. +0.j,  25. +0.j,\n",
       "        26. -6.j,  26.-12.j,  25.-18.j,  22.-25.j,  35. +0.j,  34.-15.j,\n",
       "        26.-29.j,  13.-39.j,  -4.-43.j, -15. +0.j, -12. +9.j,  -5.+14.j,\n",
       "         5.+14.j,  12. +9.j, -15. +0.j, -10.+11.j,   2.+15.j,  12. +9.j,\n",
       "        15. -3.j, -15. +0.j,  -8.+13.j,   7.+13.j,  15. +0.j,   8.-13.j])"
      ]
     },
     "execution_count": 93,
     "metadata": {},
     "output_type": "execute_result"
    }
   ],
   "source": [
    "q1=(q0*Wn_30); np.round(q1).flatten()"
   ]
  },
  {
   "cell_type": "code",
   "execution_count": 95,
   "id": "1a10d341-5f6a-4fda-92a7-29406a68bbf8",
   "metadata": {},
   "outputs": [
    {
     "data": {
      "text/plain": [
       "array([[[ 75.         +0.j        ,  77.21116715-20.66287145j,\n",
       "          71.58891192-40.77801084j,  58.74922359-57.21465999j,\n",
       "          40.58658609-67.28822074j],\n",
       "        [-15.         +8.66025404j,  -4.93407951+16.73239984j,\n",
       "           7.59016994+20.04543182j,  20.11444567+17.86010191j,\n",
       "          30.00358385+10.62858986j],\n",
       "        [-15.         -8.66025404j, -21.27708764 +3.93047161j,\n",
       "         -22.17908186+20.73257902j, -15.86366927+39.35455808j,\n",
       "          -1.59016994+56.65963089j]],\n",
       "\n",
       "       [[-45.         +0.j        , -29.67221401+32.95433222j,\n",
       "           4.43267203+42.17405723j,  31.77050983+23.08262653j,\n",
       "          34.30746893 -7.29227763j],\n",
       "        [  0.         +0.j        ,  -4.9630409  -1.05492691j,\n",
       "          -7.5        +5.44906896j,  -1.29681814+12.33840037j,\n",
       "           9.59829582+10.65998746j],\n",
       "        [  0.         +0.j        ,  -1.77050983 -5.44906896j,\n",
       "         -10.83843678 -4.82558296j, -16.56792695 +7.37651633j,\n",
       "          -7.5       +23.08262653j]]])"
      ]
     },
     "execution_count": 95,
     "metadata": {},
     "output_type": "execute_result"
    }
   ],
   "source": [
    "q2=fft(q1,axis=1);q2"
   ]
  },
  {
   "cell_type": "code",
   "execution_count": 105,
   "id": "70216017-ebf5-421e-8e1a-1b69fc003408",
   "metadata": {},
   "outputs": [],
   "source": [
    "q3=q2*exp(-2j*pi*col(arange(2*3)).dot(row(arange(5)))/15).reshape(2,3,5)"
   ]
  },
  {
   "cell_type": "code",
   "execution_count": 106,
   "id": "cedfb979-a475-419c-bb51-eefc32ae9811",
   "metadata": {},
   "outputs": [
    {
     "data": {
      "text/plain": [
       "array([ 323.13588876-185.94376302j,   59.96030324  +9.72032795j,\n",
       "         31.74982504 +31.55640827j,    8.20280419 +50.18864701j,\n",
       "        -48.04882123 +94.47837979j,   37.90945683 -10.83576159j,\n",
       "         11.52691756 +15.94417878j,   -1.51141596 +17.85578589j,\n",
       "        -17.55085043 +17.95469282j, -105.37410798  +2.38237429j,\n",
       "         22.36233635 -48.59403208j,   26.17712831  -9.37105906j,\n",
       "         23.91027064  +8.96409062j,   17.34810739 +32.46297959j,\n",
       "       -164.79784269 -26.76324925j,  -23.35815486 +32.05331708j,\n",
       "        -32.0632674  +11.0108713j ,  -43.06193571 -12.20209929j,\n",
       "       -122.35507881-121.78082744j,   -4.16156322 +90.91873835j,\n",
       "          6.64184514  +6.57062389j,    2.36940463  +9.03731856j,\n",
       "         -3.46363989 +15.32077465j,  -20.54760989 -35.5895043j ,\n",
       "         15.          +4.6607872j ,   12.9367326   -0.38533554j,\n",
       "         12.20378085 +10.27465192j,    0.85815486 +41.85534971j,\n",
       "        -37.37479689 -40.33084856j,   11.37612859 -11.41381753j])"
      ]
     },
     "execution_count": 106,
     "metadata": {},
     "output_type": "execute_result"
    }
   ],
   "source": [
    "fft(q3,axis=2).flatten()"
   ]
  },
  {
   "cell_type": "code",
   "execution_count": 104,
   "id": "e3f419bb-23cf-4597-ae9d-c769334b71e6",
   "metadata": {},
   "outputs": [
    {
     "data": {
      "text/plain": [
       "array([435.+0.00000000e+00j, -15.+1.42715467e+02j, -15.+7.05694516e+01j,\n",
       "       -15.+4.61652531e+01j, -15.+3.36905516e+01j, -15.+2.59807621e+01j,\n",
       "       -15.+2.06457288e+01j, -15.+1.66591877e+01j, -15.+1.35060607e+01j,\n",
       "       -15.+1.08981379e+01j, -15.+8.66025404e+00j, -15.+6.67843028e+00j,\n",
       "       -15.+4.87379544e+00j, -15.+3.18834843e+00j, -15.+1.57656353e+00j,\n",
       "       -15.+1.77635684e-15j, -15.-1.57656353e+00j, -15.-3.18834843e+00j,\n",
       "       -15.-4.87379544e+00j, -15.-6.67843028e+00j, -15.-8.66025404e+00j,\n",
       "       -15.-1.08981379e+01j, -15.-1.35060607e+01j, -15.-1.66591877e+01j,\n",
       "       -15.-2.06457288e+01j, -15.-2.59807621e+01j, -15.-3.36905516e+01j,\n",
       "       -15.-4.61652531e+01j, -15.-7.05694516e+01j, -15.-1.42715467e+02j])"
      ]
     },
     "execution_count": 104,
     "metadata": {},
     "output_type": "execute_result"
    }
   ],
   "source": [
    "a[:,0]"
   ]
  },
  {
   "cell_type": "code",
   "execution_count": 108,
   "id": "a72b47d7-c878-408f-8b4c-e7eabfcdc254",
   "metadata": {},
   "outputs": [],
   "source": [
    "v=arange(30).astype(complex)"
   ]
  },
  {
   "cell_type": "code",
   "execution_count": 109,
   "id": "324e4a4b-40ff-4964-9f48-6cc59b501af6",
   "metadata": {},
   "outputs": [
    {
     "data": {
      "text/plain": [
       "array([435.+0.00000000e+00j, -15.+1.42715467e+02j, -15.+7.05694516e+01j,\n",
       "       -15.+4.61652531e+01j, -15.+3.36905516e+01j, -15.+2.59807621e+01j,\n",
       "       -15.+2.06457288e+01j, -15.+1.66591877e+01j, -15.+1.35060607e+01j,\n",
       "       -15.+1.08981379e+01j, -15.+8.66025404e+00j, -15.+6.67843028e+00j,\n",
       "       -15.+4.87379544e+00j, -15.+3.18834843e+00j, -15.+1.57656353e+00j,\n",
       "       -15.+1.77635684e-15j, -15.-1.57656353e+00j, -15.-3.18834843e+00j,\n",
       "       -15.-4.87379544e+00j, -15.-6.67843028e+00j, -15.-8.66025404e+00j,\n",
       "       -15.-1.08981379e+01j, -15.-1.35060607e+01j, -15.-1.66591877e+01j,\n",
       "       -15.-2.06457288e+01j, -15.-2.59807621e+01j, -15.-3.36905516e+01j,\n",
       "       -15.-4.61652531e+01j, -15.-7.05694516e+01j, -15.-1.42715467e+02j])"
      ]
     },
     "execution_count": 109,
     "metadata": {},
     "output_type": "execute_result"
    }
   ],
   "source": [
    "fft(v)"
   ]
  },
  {
   "cell_type": "code",
   "execution_count": 111,
   "id": "29a9df95-b4d9-4256-bb66-802c30ff8639",
   "metadata": {},
   "outputs": [
    {
     "data": {
      "text/plain": [
       "array([[[ 0.+0.j,  1.+0.j,  2.+0.j,  3.+0.j,  4.+0.j],\n",
       "        [ 5.+0.j,  6.+0.j,  7.+0.j,  8.+0.j,  9.+0.j],\n",
       "        [10.+0.j, 11.+0.j, 12.+0.j, 13.+0.j, 14.+0.j]],\n",
       "\n",
       "       [[15.+0.j, 16.+0.j, 17.+0.j, 18.+0.j, 19.+0.j],\n",
       "        [20.+0.j, 21.+0.j, 22.+0.j, 23.+0.j, 24.+0.j],\n",
       "        [25.+0.j, 26.+0.j, 27.+0.j, 28.+0.j, 29.+0.j]]])"
      ]
     },
     "execution_count": 111,
     "metadata": {},
     "output_type": "execute_result"
    }
   ],
   "source": [
    "v0=v.reshape(2,3,5); v0"
   ]
  },
  {
   "cell_type": "code",
   "execution_count": 112,
   "id": "ad329733-7e19-4fe4-8abc-0bf9ffd018ab",
   "metadata": {},
   "outputs": [
    {
     "data": {
      "text/plain": [
       "array([[[ 15.+0.j,  17.+0.j,  19.+0.j,  21.+0.j,  23.+0.j],\n",
       "        [ 25.+0.j,  27.+0.j,  29.+0.j,  31.+0.j,  33.+0.j],\n",
       "        [ 35.+0.j,  37.+0.j,  39.+0.j,  41.+0.j,  43.+0.j]],\n",
       "\n",
       "       [[-15.+0.j, -15.+0.j, -15.+0.j, -15.+0.j, -15.+0.j],\n",
       "        [-15.+0.j, -15.+0.j, -15.+0.j, -15.+0.j, -15.+0.j],\n",
       "        [-15.+0.j, -15.+0.j, -15.+0.j, -15.+0.j, -15.+0.j]]])"
      ]
     },
     "execution_count": 112,
     "metadata": {},
     "output_type": "execute_result"
    }
   ],
   "source": [
    "v1=fft(v0,axis=0); v1"
   ]
  },
  {
   "cell_type": "code",
   "execution_count": 121,
   "id": "d677d74d-ff9a-4865-8301-4861eb895103",
   "metadata": {},
   "outputs": [
    {
     "data": {
      "text/plain": [
       "array([[ 1.        +0.00000000e+00j,  1.        +0.00000000e+00j,\n",
       "         1.        +0.00000000e+00j,  1.        +0.00000000e+00j,\n",
       "         1.        +0.00000000e+00j],\n",
       "       [ 1.        +0.00000000e+00j,  0.9781476 -2.07911691e-01j,\n",
       "         0.91354546-4.06736643e-01j,  0.80901699-5.87785252e-01j,\n",
       "         0.66913061-7.43144825e-01j],\n",
       "       [ 1.        +0.00000000e+00j,  0.91354546-4.06736643e-01j,\n",
       "         0.66913061-7.43144825e-01j,  0.30901699-9.51056516e-01j,\n",
       "        -0.10452846-9.94521895e-01j],\n",
       "       [ 1.        +0.00000000e+00j,  0.80901699-5.87785252e-01j,\n",
       "         0.30901699-9.51056516e-01j, -0.30901699-9.51056516e-01j,\n",
       "        -0.80901699-5.87785252e-01j],\n",
       "       [ 1.        +0.00000000e+00j,  0.66913061-7.43144825e-01j,\n",
       "        -0.10452846-9.94521895e-01j, -0.80901699-5.87785252e-01j,\n",
       "        -0.9781476 +2.07911691e-01j],\n",
       "       [ 1.        +0.00000000e+00j,  0.5       -8.66025404e-01j,\n",
       "        -0.5       -8.66025404e-01j, -1.        -5.66553890e-16j,\n",
       "        -0.5       +8.66025404e-01j]])"
      ]
     },
     "execution_count": 121,
     "metadata": {},
     "output_type": "execute_result"
    }
   ],
   "source": [
    "w=exp(-2j*pi*col(arange(6)).dot(row(arange(5)))/30); w"
   ]
  },
  {
   "cell_type": "code",
   "execution_count": 129,
   "id": "f7b2c670-1607-4e5d-ab30-2bfedd298eee",
   "metadata": {},
   "outputs": [
    {
     "data": {
      "text/plain": [
       "array([ 15. +0.j,  17. +0.j,  19. +0.j,  21. +0.j,  23. +0.j,  25. +0.j,\n",
       "        26. -6.j,  26.-12.j,  25.-18.j,  22.-25.j,  35. +0.j,  34.-15.j,\n",
       "        26.-29.j,  13.-39.j,  -4.-43.j, -15. +0.j, -12. +9.j,  -5.+14.j,\n",
       "         5.+14.j,  12. +9.j, -15. +0.j, -10.+11.j,   2.+15.j,  12. +9.j,\n",
       "        15. -3.j, -15. +0.j,  -8.+13.j,   7.+13.j,  15. +0.j,   8.-13.j])"
      ]
     },
     "execution_count": 129,
     "metadata": {},
     "output_type": "execute_result"
    }
   ],
   "source": [
    "np.around(v1.reshape(6,5)*w).flatten()"
   ]
  },
  {
   "cell_type": "code",
   "execution_count": 128,
   "id": "3fd3c8c0-a35a-4048-a485-dafb36b83ec9",
   "metadata": {},
   "outputs": [
    {
     "name": "stdout",
     "output_type": "stream",
     "text": [
      "Help on function around in module numpy:\n",
      "\n",
      "around(a, decimals=0, out=None)\n",
      "    Evenly round to the given number of decimals.\n",
      "    \n",
      "    Parameters\n",
      "    ----------\n",
      "    a : array_like\n",
      "        Input data.\n",
      "    decimals : int, optional\n",
      "        Number of decimal places to round to (default: 0).  If\n",
      "        decimals is negative, it specifies the number of positions to\n",
      "        the left of the decimal point.\n",
      "    out : ndarray, optional\n",
      "        Alternative output array in which to place the result. It must have\n",
      "        the same shape as the expected output, but the type of the output\n",
      "        values will be cast if necessary. See :ref:`ufuncs-output-type` for more\n",
      "        details.\n",
      "    \n",
      "    Returns\n",
      "    -------\n",
      "    rounded_array : ndarray\n",
      "        An array of the same type as `a`, containing the rounded values.\n",
      "        Unless `out` was specified, a new array is created.  A reference to\n",
      "        the result is returned.\n",
      "    \n",
      "        The real and imaginary parts of complex numbers are rounded\n",
      "        separately.  The result of rounding a float is a float.\n",
      "    \n",
      "    See Also\n",
      "    --------\n",
      "    ndarray.round : equivalent method\n",
      "    \n",
      "    ceil, fix, floor, rint, trunc\n",
      "    \n",
      "    \n",
      "    Notes\n",
      "    -----\n",
      "    For values exactly halfway between rounded decimal values, NumPy\n",
      "    rounds to the nearest even value. Thus 1.5 and 2.5 round to 2.0,\n",
      "    -0.5 and 0.5 round to 0.0, etc.\n",
      "    \n",
      "    ``np.around`` uses a fast but sometimes inexact algorithm to round\n",
      "    floating-point datatypes. For positive `decimals` it is equivalent to\n",
      "    ``np.true_divide(np.rint(a * 10**decimals), 10**decimals)``, which has\n",
      "    error due to the inexact representation of decimal fractions in the IEEE\n",
      "    floating point standard [1]_ and errors introduced when scaling by powers\n",
      "    of ten. For instance, note the extra \"1\" in the following:\n",
      "    \n",
      "        >>> np.round(56294995342131.5, 3)\n",
      "        56294995342131.51\n",
      "    \n",
      "    If your goal is to print such values with a fixed number of decimals, it is\n",
      "    preferable to use numpy's float printing routines to limit the number of\n",
      "    printed decimals:\n",
      "    \n",
      "        >>> np.format_float_positional(56294995342131.5, precision=3)\n",
      "        '56294995342131.5'\n",
      "    \n",
      "    The float printing routines use an accurate but much more computationally\n",
      "    demanding algorithm to compute the number of digits after the decimal\n",
      "    point.\n",
      "    \n",
      "    Alternatively, Python's builtin `round` function uses a more accurate\n",
      "    but slower algorithm for 64-bit floating point values:\n",
      "    \n",
      "        >>> round(56294995342131.5, 3)\n",
      "        56294995342131.5\n",
      "        >>> np.round(16.055, 2), round(16.055, 2)  # equals 16.0549999999999997\n",
      "        (16.06, 16.05)\n",
      "    \n",
      "    \n",
      "    References\n",
      "    ----------\n",
      "    .. [1] \"Lecture Notes on the Status of IEEE 754\", William Kahan,\n",
      "           https://people.eecs.berkeley.edu/~wkahan/ieee754status/IEEE754.PDF\n",
      "    .. [2] \"How Futile are Mindless Assessments of\n",
      "           Roundoff in Floating-Point Computation?\", William Kahan,\n",
      "           https://people.eecs.berkeley.edu/~wkahan/Mindless.pdf\n",
      "    \n",
      "    Examples\n",
      "    --------\n",
      "    >>> np.around([0.37, 1.64])\n",
      "    array([0.,  2.])\n",
      "    >>> np.around([0.37, 1.64], decimals=1)\n",
      "    array([0.4,  1.6])\n",
      "    >>> np.around([.5, 1.5, 2.5, 3.5, 4.5]) # rounds to nearest even value\n",
      "    array([0.,  2.,  2.,  4.,  4.])\n",
      "    >>> np.around([1,2,3,11], decimals=1) # ndarray of ints is returned\n",
      "    array([ 1,  2,  3, 11])\n",
      "    >>> np.around([1,2,3,11], decimals=-1)\n",
      "    array([ 0,  0,  0, 10])\n",
      "\n"
     ]
    }
   ],
   "source": [
    "help(np.around)"
   ]
  },
  {
   "cell_type": "code",
   "execution_count": null,
   "id": "40a7a60c-b457-4366-9e96-e9f46829875b",
   "metadata": {},
   "outputs": [],
   "source": []
  }
 ],
 "metadata": {
  "kernelspec": {
   "display_name": "Python 3",
   "language": "python",
   "name": "python3"
  },
  "language_info": {
   "codemirror_mode": {
    "name": "ipython",
    "version": 3
   },
   "file_extension": ".py",
   "mimetype": "text/x-python",
   "name": "python",
   "nbconvert_exporter": "python",
   "pygments_lexer": "ipython3",
   "version": "3.9.5"
  }
 },
 "nbformat": 4,
 "nbformat_minor": 5
}
