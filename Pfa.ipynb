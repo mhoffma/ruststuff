{
 "cells": [
  {
   "cell_type": "code",
   "execution_count": 2,
   "id": "660cf56f-e9e5-451f-8774-f0909533795f",
   "metadata": {
    "tags": []
   },
   "outputs": [],
   "source": [
    "fn is_prime(n: i32) -> bool {\n",
    "    if n == 2 || n == 3 {\n",
    "        return true;\n",
    "    }\n",
    "\n",
    "    if n <= 1 || n % 2 == 0 || n % 3 == 0 {\n",
    "        return false;\n",
    "    }\n",
    "    \n",
    "    for i in (5..).step_by(6).take_while(|i| i * i <= n) {\n",
    "        if n % i == 0 || n % (i + 2) == 0 {\n",
    "            return false;\n",
    "        }\n",
    "    }\n",
    "\n",
    "    true\n",
    "}"
   ]
  },
  {
   "cell_type": "code",
   "execution_count": 3,
   "id": "50ba472f-9017-4e1c-bdf4-5ed0ef1cddff",
   "metadata": {
    "tags": []
   },
   "outputs": [
    {
     "data": {
      "text/plain": [
       "true"
      ]
     },
     "execution_count": 3,
     "metadata": {},
     "output_type": "execute_result"
    }
   ],
   "source": [
    "is_prime(11)"
   ]
  },
  {
   "cell_type": "code",
   "execution_count": 84,
   "id": "3ab27cfd-abd2-40d0-a80f-9bf883695e9b",
   "metadata": {
    "tags": []
   },
   "outputs": [],
   "source": [
    "fn pfa(x:u32) -> Vec<u32> {\n",
    "    let mut v = Vec::<u32>::new();\n",
    "    let mut r = x;\n",
    "    let mut k = 2;\n",
    "    while &r > &1 {\n",
    "        if &r % &k == 0 {\n",
    "            r = r / &k;\n",
    "            v.push(k);\n",
    "        } else {\n",
    "            k = k + 1;\n",
    "        }\n",
    "    }\n",
    "    return v;\n",
    "}"
   ]
  },
  {
   "cell_type": "code",
   "execution_count": 85,
   "id": "5f75e99c-0f2f-4690-9aae-67195f0f34ad",
   "metadata": {
    "tags": []
   },
   "outputs": [
    {
     "data": {
      "text/plain": [
       "[2, 2, 2, 5]"
      ]
     },
     "execution_count": 85,
     "metadata": {},
     "output_type": "execute_result"
    }
   ],
   "source": [
    "pfa(40)"
   ]
  },
  {
   "cell_type": "code",
   "execution_count": 86,
   "id": "51339554-878e-4528-bd0b-3be3b8e721ee",
   "metadata": {
    "tags": []
   },
   "outputs": [
    {
     "data": {
      "text/plain": [
       "999"
      ]
     },
     "execution_count": 86,
     "metadata": {},
     "output_type": "execute_result"
    }
   ],
   "source": [
    "pfa(999).iter().fold(1,|p,x| p*x)"
   ]
  },
  {
   "cell_type": "code",
   "execution_count": 87,
   "id": "aa6dc578-2103-437c-9a9b-b08c5c7d5a10",
   "metadata": {},
   "outputs": [
    {
     "data": {
      "text/plain": [
       "[2, 2, 2, 3]"
      ]
     },
     "execution_count": 87,
     "metadata": {},
     "output_type": "execute_result"
    }
   ],
   "source": [
    "pfa(24)"
   ]
  },
  {
   "cell_type": "code",
   "execution_count": 88,
   "id": "94bb59d4-86b8-4ae9-b946-b95ec8899739",
   "metadata": {
    "tags": []
   },
   "outputs": [
    {
     "data": {
      "text/plain": [
       "[2, 3, 3]"
      ]
     },
     "execution_count": 88,
     "metadata": {},
     "output_type": "execute_result"
    }
   ],
   "source": [
    "pfa(18)"
   ]
  },
  {
   "cell_type": "code",
   "execution_count": 89,
   "id": "e18f3801-24e1-4203-af72-90b99468b6e5",
   "metadata": {
    "tags": []
   },
   "outputs": [
    {
     "data": {
      "text/plain": [
       "[2, 3]"
      ]
     },
     "execution_count": 89,
     "metadata": {},
     "output_type": "execute_result"
    }
   ],
   "source": [
    "pfa(18).iter().collect::<HashSet<_>>().into_iter()"
   ]
  },
  {
   "cell_type": "code",
   "execution_count": 31,
   "id": "47df69f3-b560-4a0d-9515-006496c2b00c",
   "metadata": {
    "tags": []
   },
   "outputs": [],
   "source": [
    "use std::collections::HashSet;"
   ]
  },
  {
   "cell_type": "code",
   "execution_count": 49,
   "id": "d426536e-bde4-476b-a9ee-80bd72cb57a8",
   "metadata": {
    "tags": []
   },
   "outputs": [
    {
     "ename": "Error",
     "evalue": "expected one of `!`, `+`, `,`, `::`, or `>`, found `(`",
     "output_type": "error",
     "traceback": [
      "\u001b[31mError:\u001b[0m expected one of `!`, `+`, `,`, `::`, or `>`, found `(`",
      "   \u001b[38;5;246m╭\u001b[0m\u001b[38;5;246m─\u001b[0m\u001b[38;5;246m[\u001b[0mcommand_49:1:1\u001b[38;5;246m]\u001b[0m",
      "   \u001b[38;5;246m│\u001b[0m",
      " \u001b[38;5;246m2 │\u001b[0m \u001b[38;5;249m \u001b[0m\u001b[38;5;249m \u001b[0m\u001b[38;5;249m.\u001b[0m\u001b[38;5;249mz\u001b[0m\u001b[38;5;249mi\u001b[0m\u001b[38;5;249mp\u001b[0m\u001b[38;5;249m(\u001b[0m\u001b[38;5;249mp\u001b[0m\u001b[38;5;249mf\u001b[0m\u001b[38;5;249ma\u001b[0m\u001b[38;5;249m(\u001b[0m\u001b[38;5;249m2\u001b[0m\u001b[38;5;249m4\u001b[0m\u001b[38;5;249m)\u001b[0m\u001b[38;5;249m.\u001b[0m\u001b[38;5;249mi\u001b[0m\u001b[38;5;249mt\u001b[0m\u001b[38;5;249me\u001b[0m\u001b[38;5;249mr\u001b[0m\u001b[38;5;249m(\u001b[0m\u001b[38;5;249m)\u001b[0m\u001b[38;5;249m.\u001b[0m\u001b[38;5;249mc\u001b[0m\u001b[38;5;249mo\u001b[0m\u001b[38;5;249ml\u001b[0m\u001b[38;5;249ml\u001b[0m\u001b[38;5;249me\u001b[0m\u001b[38;5;249mc\u001b[0m\u001b[38;5;249mt\u001b[0m\u001b[38;5;249m:\u001b[0m\u001b[38;5;249m:\u001b[0m\u001b[38;5;249m<\u001b[0m\u001b[38;5;249mH\u001b[0m\u001b[38;5;249ma\u001b[0m\u001b[38;5;249ms\u001b[0m\u001b[38;5;249mh\u001b[0m\u001b[38;5;249mS\u001b[0m\u001b[38;5;249me\u001b[0m\u001b[38;5;249mt\u001b[0m\u001b[38;5;249m<\u001b[0m\u001b[38;5;249m_\u001b[0m\u001b[38;5;249m>\u001b[0m\u001b[38;5;249m>\u001b[0m\u001b[38;5;249m(\u001b[0m\u001b[38;5;249m)\u001b[0m\u001b[38;5;249m.\u001b[0m\u001b[38;5;249mi\u001b[0m\u001b[38;5;249mn\u001b[0m\u001b[38;5;249mt\u001b[0m\u001b[38;5;249mo\u001b[0m\u001b[38;5;249m_\u001b[0m\u001b[38;5;249mi\u001b[0m\u001b[38;5;249mt\u001b[0m\u001b[38;5;249me\u001b[0m\u001b[38;5;249mr\u001b[0m\u001b[38;5;249m(\u001b[0m\u001b[38;5;249m)\u001b[0m\u001b[38;5;249m.\u001b[0m\u001b[38;5;249mc\u001b[0m\u001b[38;5;249mo\u001b[0m\u001b[38;5;249ml\u001b[0m\u001b[38;5;249ml\u001b[0m\u001b[38;5;249me\u001b[0m\u001b[38;5;249mc\u001b[0m\u001b[38;5;249mt\u001b[0m\u001b[38;5;249m:\u001b[0m\u001b[38;5;249m:\u001b[0m\u001b[38;5;249m<\u001b[0m\u001b[38;5;249mV\u001b[0m\u001b[38;5;249me\u001b[0m\u001b[38;5;249mc\u001b[0m\u001b[38;5;249m<\u001b[0m\u001b[38;5;249m_\u001b[0m\u001b[38;5;249m>\u001b[0m\u001b[38;5;54m(\u001b[0m\u001b[38;5;249m)\u001b[0m\u001b[38;5;249m.\u001b[0m\u001b[38;5;249ms\u001b[0m\u001b[38;5;249mo\u001b[0m\u001b[38;5;249mr\u001b[0m\u001b[38;5;249mt\u001b[0m\u001b[38;5;249m(\u001b[0m\u001b[38;5;249m)\u001b[0m\u001b[38;5;249m.\u001b[0m\u001b[38;5;249mi\u001b[0m\u001b[38;5;249mt\u001b[0m\u001b[38;5;249me\u001b[0m\u001b[38;5;249mr\u001b[0m\u001b[38;5;249m(\u001b[0m\u001b[38;5;249m)\u001b[0m\u001b[38;5;249m)\u001b[0m",
      " \u001b[38;5;240m  │\u001b[0m                                                                           \u001b[38;5;54m┬\u001b[0m  ",
      " \u001b[38;5;240m  │\u001b[0m                                                                           \u001b[38;5;54m╰\u001b[0m\u001b[38;5;54m─\u001b[0m\u001b[38;5;54m─\u001b[0m expected one of `!`, `+`, `,`, `::`, or `>`",
      " \u001b[38;5;240m  │\u001b[0m                                                                           \u001b[38;5;100m│\u001b[0m  ",
      " \u001b[38;5;240m  │\u001b[0m                                                                           \u001b[38;5;100m╰\u001b[0m\u001b[38;5;100m─\u001b[0m\u001b[38;5;100m─\u001b[0m help: you might have meant to end the type parameters here: `>`",
      "\u001b[38;5;246m───╯\u001b[0m"
     ]
    },
    {
     "ename": "Error",
     "evalue": "expected one of `,`, `.`, `?`, or an operator, found `)`",
     "output_type": "error",
     "traceback": [
      "\u001b[31mError:\u001b[0m expected one of `,`, `.`, `?`, or an operator, found `)`",
      "   \u001b[38;5;246m╭\u001b[0m\u001b[38;5;246m─\u001b[0m\u001b[38;5;246m[\u001b[0mcommand_49:1:1\u001b[38;5;246m]\u001b[0m",
      "   \u001b[38;5;246m│\u001b[0m",
      " \u001b[38;5;246m8 │\u001b[0m \u001b[38;5;249m \u001b[0m\u001b[38;5;249m \u001b[0m\u001b[38;5;249m \u001b[0m\u001b[38;5;249m \u001b[0m\u001b[38;5;249m}\u001b[0m\u001b[38;5;249m)\u001b[0m",
      " \u001b[38;5;240m  │\u001b[0m       \u001b[38;5;54m│\u001b[0m ",
      " \u001b[38;5;240m  │\u001b[0m       \u001b[38;5;54m╰\u001b[0m\u001b[38;5;54m─\u001b[0m expected one of `,`, `.`, `?`, or an operator",
      "\u001b[38;5;246m───╯\u001b[0m"
     ]
    }
   ],
   "source": [
    "pfa(18).iter().collect::<HashSet<_>>().into_iter().collect::<Vec<_>>().sort().iter()\n",
    "  .zip(pfa(24).iter().collect::<HashSet<_>>().into_iter().collect::<Vec<_>().sort().iter())\n",
    "    .fold(1,|p,x| {\n",
    "        let (a,b)=x; \n",
    "        println!(\"{} {}\",&x.0, &x.1);\n",
    "        if &a==&b { p*a } \n",
    "        else {p} \n",
    "    })"
   ]
  },
  {
   "cell_type": "code",
   "execution_count": 90,
   "id": "f1c2014c-35b5-476c-879a-f63e15e19b50",
   "metadata": {
    "tags": []
   },
   "outputs": [
    {
     "data": {
      "text/plain": [
       "[2, 2, 2, 2, 2]"
      ]
     },
     "execution_count": 90,
     "metadata": {},
     "output_type": "execute_result"
    }
   ],
   "source": [
    "pfa(32)"
   ]
  },
  {
   "cell_type": "code",
   "execution_count": 69,
   "id": "2b98934b-d104-44e9-9148-fbff913a55a3",
   "metadata": {
    "tags": []
   },
   "outputs": [],
   "source": [
    "trait SortTraits: Clone + std::fmt::Debug + std::fmt::Display + std::cmp::PartialOrd {}\n",
    "impl<T: Clone + std::fmt::Debug + std::fmt::Display + std::cmp::PartialOrd> SortTraits for T {}\n",
    "\n",
    "fn quicksort<T: SortTraits>(a: &mut [T]) -> &[T] {\n",
    "    // Divides array into two partitions\n",
    "    fn partition<T: SortTraits>(y: &mut [T]) -> usize {\n",
    "        let hi = y.len() - 1;\n",
    "        let pivot = y[hi].clone(); // Choose the last element as the pivot\n",
    "                                   // Temporary pivot index\n",
    "        let mut i = 0;\n",
    "        for j in 0..hi {\n",
    "            // If the current element is less than or equal to the pivot\n",
    "            if y[j] <= pivot {\n",
    "                y.swap(i, j);\n",
    "                i = i + 1;\n",
    "            }\n",
    "        }\n",
    "        // Move the pivot element to the correct pivot position (between the smaller and larger elements)\n",
    "        y.swap(i, hi);\n",
    "        i + 1\n",
    "    }\n",
    "    if a.len() <= 1 {\n",
    "        return a;\n",
    "    }\n",
    "    // Partition array and get the pivot index\n",
    "    let p = partition(a);\n",
    "    let hi = a.len();\n",
    "    // Sort the two partitions\n",
    "    quicksort(&mut a[0..p - 1]); // Left side of pivot\n",
    "    quicksort(&mut a[p..hi]); // Right side of pivot\n",
    "    a\n",
    "}"
   ]
  },
  {
   "cell_type": "code",
   "execution_count": 97,
   "id": "1c1ee4ca-c8b7-4852-9930-1a48b5bb1d8d",
   "metadata": {
    "tags": []
   },
   "outputs": [],
   "source": [
    "fn uniq(x: Vec<u32>) -> Vec<u32> {\n",
    "    let mut x1 = x.iter().collect::<HashSet<_>>().into_iter().map(|x| *x).collect::<Vec<_>>();\n",
    "    quicksort(&mut x1[..]).iter().collect::<Vec<_>>();\n",
    "    x1\n",
    "}"
   ]
  },
  {
   "cell_type": "code",
   "execution_count": 102,
   "id": "b4a4d748-3635-4d36-8b24-45a9703f248c",
   "metadata": {
    "tags": []
   },
   "outputs": [
    {
     "data": {
      "text/plain": [
       "[7, 11, 13]"
      ]
     },
     "execution_count": 102,
     "metadata": {},
     "output_type": "execute_result"
    }
   ],
   "source": [
    "pfa(1001)"
   ]
  },
  {
   "cell_type": "code",
   "execution_count": 110,
   "id": "05d5155d-b3de-44a1-aa1e-4d2f4cf53d50",
   "metadata": {
    "tags": []
   },
   "outputs": [
    {
     "ename": "Error",
     "evalue": "mismatched types",
     "output_type": "error",
     "traceback": [
      "\u001b[31m[E0308] Error:\u001b[0m mismatched types",
      "   \u001b[38;5;246m╭\u001b[0m\u001b[38;5;246m─\u001b[0m\u001b[38;5;246m[\u001b[0mcommand_110:1:1\u001b[38;5;246m]\u001b[0m",
      "   \u001b[38;5;246m│\u001b[0m",
      " \u001b[38;5;246m4 │\u001b[0m \u001b[38;5;249m \u001b[0m\u001b[38;5;249m \u001b[0m\u001b[38;5;249m \u001b[0m\u001b[38;5;249m \u001b[0m\u001b[38;5;249m \u001b[0m\u001b[38;5;249m \u001b[0m\u001b[38;5;249m \u001b[0m\u001b[38;5;249m \u001b[0m\u001b[38;5;249m.\u001b[0m\u001b[38;5;100mf\u001b[0m\u001b[38;5;100mo\u001b[0m\u001b[38;5;100ml\u001b[0m\u001b[38;5;100md\u001b[0m\u001b[38;5;249m(\u001b[0m\u001b[38;5;54m1\u001b[0m\u001b[38;5;249m,\u001b[0m\u001b[38;5;249m|\u001b[0m\u001b[38;5;249mp\u001b[0m\u001b[38;5;249m,\u001b[0m\u001b[38;5;249mx\u001b[0m\u001b[38;5;249m|\u001b[0m\u001b[38;5;249m \u001b[0m\u001b[38;5;249m{\u001b[0m",
      " \u001b[38;5;240m  │\u001b[0m          \u001b[38;5;100m─\u001b[0m\u001b[38;5;100m─\u001b[0m\u001b[38;5;100m┬\u001b[0m\u001b[38;5;100m─\u001b[0m \u001b[38;5;54m┬\u001b[0m  ",
      " \u001b[38;5;240m  │\u001b[0m            \u001b[38;5;100m╰\u001b[0m\u001b[38;5;100m─\u001b[0m\u001b[38;5;100m─\u001b[0m\u001b[38;5;100m─\u001b[0m\u001b[38;5;100m─\u001b[0m\u001b[38;5;100m─\u001b[0m arguments to this method are incorrect",
      " \u001b[38;5;240m  │\u001b[0m               \u001b[38;5;54m│\u001b[0m  ",
      " \u001b[38;5;240m  │\u001b[0m               \u001b[38;5;54m╰\u001b[0m\u001b[38;5;54m─\u001b[0m\u001b[38;5;54m─\u001b[0m expected `()`, found integer",
      " \u001b[38;5;240m  │\u001b[0m ",
      " \u001b[38;5;240m  │\u001b[0m \u001b[38;5;115mNote\u001b[0m: note: method defined here",
      "\u001b[38;5;246m───╯\u001b[0m"
     ]
    },
    {
     "ename": "Error",
     "evalue": "cannot multiply `()` by `&u32`",
     "output_type": "error",
     "traceback": [
      "\u001b[31m[E0277] Error:\u001b[0m cannot multiply `()` by `&u32`",
      "   \u001b[38;5;246m╭\u001b[0m\u001b[38;5;246m─\u001b[0m\u001b[38;5;246m[\u001b[0mcommand_110:1:1\u001b[38;5;246m]\u001b[0m",
      "   \u001b[38;5;246m│\u001b[0m",
      " \u001b[38;5;246m7 │\u001b[0m \u001b[38;5;249m \u001b[0m\u001b[38;5;249m \u001b[0m\u001b[38;5;249m \u001b[0m\u001b[38;5;249m \u001b[0m\u001b[38;5;249m \u001b[0m\u001b[38;5;249m \u001b[0m\u001b[38;5;249m \u001b[0m\u001b[38;5;249m \u001b[0m\u001b[38;5;249m \u001b[0m\u001b[38;5;249m \u001b[0m\u001b[38;5;249m \u001b[0m\u001b[38;5;249m \u001b[0m\u001b[38;5;249mi\u001b[0m\u001b[38;5;249mf\u001b[0m\u001b[38;5;249m \u001b[0m\u001b[38;5;249m&\u001b[0m\u001b[38;5;249ma\u001b[0m\u001b[38;5;249m=\u001b[0m\u001b[38;5;249m=\u001b[0m\u001b[38;5;249m&\u001b[0m\u001b[38;5;249mb\u001b[0m\u001b[38;5;249m \u001b[0m\u001b[38;5;249m{\u001b[0m\u001b[38;5;249m \u001b[0m\u001b[38;5;249mp\u001b[0m\u001b[38;5;54m*\u001b[0m\u001b[38;5;249ma\u001b[0m\u001b[38;5;249m \u001b[0m\u001b[38;5;249m}\u001b[0m",
      " \u001b[38;5;240m  │\u001b[0m                          \u001b[38;5;54m┬\u001b[0m  ",
      " \u001b[38;5;240m  │\u001b[0m                          \u001b[38;5;54m╰\u001b[0m\u001b[38;5;54m─\u001b[0m\u001b[38;5;54m─\u001b[0m no implementation for `() * &u32`",
      "\u001b[38;5;246m───╯\u001b[0m"
     ]
    }
   ],
   "source": [
    "fn lcm(x:u32, y:u32) {\n",
    "    uniq(pfa(x)).iter()\n",
    "      .zip(uniq(pfa(y)).iter())\n",
    "        .fold(1,|p,x| {\n",
    "            let (a,b)=x; \n",
    "            //println!(\"{} {}\",&x.0, &x.1);\n",
    "            if &a==&b { p*a } \n",
    "            else {p} \n",
    "        })\n",
    "}"
   ]
  },
  {
   "cell_type": "code",
   "execution_count": 113,
   "id": "5a7528da-84da-4774-b2dc-a34b5f7af0d4",
   "metadata": {
    "tags": []
   },
   "outputs": [
    {
     "data": {
      "text/plain": [
       "1"
      ]
     },
     "execution_count": 113,
     "metadata": {},
     "output_type": "execute_result"
    }
   ],
   "source": [
    "uniq(pfa(1001)).iter()\n",
    "      .zip(uniq(pfa(121)).iter())\n",
    "        .fold(1,|p,x| {\n",
    "            let (a,b)=x; \n",
    "            //println!(\"{} {}\",&x.0, &x.1);\n",
    "            if &a==&b { p*a } \n",
    "            else {p} \n",
    "        })"
   ]
  },
  {
   "cell_type": "code",
   "execution_count": null,
   "id": "b4f8b718-7eac-4c1e-9e01-bae747622af8",
   "metadata": {},
   "outputs": [],
   "source": []
  }
 ],
 "metadata": {
  "kernelspec": {
   "display_name": "Rust",
   "language": "rust",
   "name": "rust"
  },
  "language_info": {
   "codemirror_mode": "rust",
   "file_extension": ".rs",
   "mimetype": "text/rust",
   "name": "Rust",
   "pygment_lexer": "rust",
   "version": ""
  }
 },
 "nbformat": 4,
 "nbformat_minor": 5
}
